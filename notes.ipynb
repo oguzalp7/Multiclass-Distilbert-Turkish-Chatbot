{
 "cells": [
  {
   "cell_type": "markdown",
   "metadata": {},
   "source": [
    "Message preprocessing:\n",
    "-   remove urls\n",
    "-   remove emojis\n",
    "-   remove punctuation\n",
    "-   unidecode\n",
    "-   remove ignore words\n",
    "-   tokenize sentences\n",
    "-   normalize words of the sentence\n",
    "-   tokenize into words\n",
    "-   implement stemming into list of words\n",
    "-   try keyword search with stemmed words (brute force & jaccard similarity)"
   ]
  }
 ],
 "metadata": {
  "language_info": {
   "name": "python"
  },
  "orig_nbformat": 4
 },
 "nbformat": 4,
 "nbformat_minor": 2
}
